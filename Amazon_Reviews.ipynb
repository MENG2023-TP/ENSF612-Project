{
  "nbformat": 4,
  "nbformat_minor": 0,
  "metadata": {
    "colab": {
      "provenance": []
    },
    "kernelspec": {
      "name": "python3",
      "display_name": "Python 3"
    },
    "language_info": {
      "name": "python"
    }
  },
  "cells": [
    {
      "cell_type": "markdown",
      "source": [
        "<table>\n",
        "<tr>\n",
        "    <td>\n",
        "        <img src=\"https://www.wordstream.com/wp-content/uploads/2021/07/how-to-get-amazon-reviews.png\" width=\"200\"/>\n",
        "    </td>\n",
        "    <td style=\"text-align: left; vertical-align: top;\">\n",
        "        <h1><strong>Amazon Reviews</strong><br></h1>\n",
        "        <h4>Engineering Large Scale Data Analytics Systems<br>\n",
        "        ENSF 612 - Fall 2023</h4>\n",
        "    </td>\n",
        "</tr>\n",
        "</table>\n"
      ],
      "metadata": {
        "id": "PPqcEas0zbok"
      }
    },
    {
      "cell_type": "markdown",
      "source": [
        "*** Note: run all the code the first time. For subsecuent runs, set rerun flag to False. This will avoid resetting spark, mounting the drive and compute high intensive functions that were already computed.\n"
      ],
      "metadata": {
        "id": "Vj1DYh7gVroz"
      }
    },
    {
      "cell_type": "code",
      "source": [
        "rerun = True"
      ],
      "metadata": {
        "id": "Dtm4ra-vWu6K"
      },
      "execution_count": 178,
      "outputs": []
    },
    {
      "cell_type": "markdown",
      "source": [
        "**Setting Up Spark**"
      ],
      "metadata": {
        "id": "f9WO6Sbd1kLP"
      }
    },
    {
      "cell_type": "code",
      "source": [
        "# the capture magic command captures the output of the block to avoid clutter\n",
        "%%capture\n",
        "\n",
        "if rerun:\n",
        "  !apt-get install openjdk-8-jdk-headless -qq > /dev/null\n",
        "  !wget https://dlcdn.apache.org/spark/spark-3.3.3/spark-3.3.3-bin-hadoop3.tgz\n",
        "  !tar -xvf spark-3.3.3-bin-hadoop3.tgz\n",
        "  !pip install findspark\n",
        "\n",
        "  import os\n",
        "  os.environ[\"JAVA_HOME\"] = \"/usr/lib/jvm/java-8-openjdk-amd64\"\n",
        "  os.environ[\"SPARK_HOME\"] = \"/content/spark-3.3.3-bin-hadoop3\"\n",
        "\n",
        "  import findspark\n",
        "  findspark.init()\n",
        "  findspark.find()\n",
        "  from pyspark.sql import SparkSession\n",
        "\n",
        "  # Setting up 4 threads, potentially allowing a 4-core processor execute 4 tasks in parallel\n",
        "  spark = SparkSession.builder\\\n",
        "          .master(\"local[4]\")\\\n",
        "          .appName(\"Colab\")\\\n",
        "          .config('spark.ui.port', '4050')\\\n",
        "          .getOrCreate()\n",
        "\n",
        "  sc = spark.sparkContext"
      ],
      "metadata": {
        "id": "Pxq1F4TUz2w8"
      },
      "execution_count": 179,
      "outputs": []
    },
    {
      "cell_type": "markdown",
      "source": [
        "**Mounting Drive & Loading Datasets**"
      ],
      "metadata": {
        "id": "MsH2kePPYp5H"
      }
    },
    {
      "cell_type": "code",
      "source": [
        "if rerun:\n",
        "  from google.colab import drive\n",
        "  drive.mount('/content/drive')"
      ],
      "metadata": {
        "id": "PavmD6VdOyGq",
        "colab": {
          "base_uri": "https://localhost:8080/"
        },
        "outputId": "0932a0be-34a2-42a7-e8c5-f8f310bfc885"
      },
      "execution_count": 180,
      "outputs": [
        {
          "output_type": "stream",
          "name": "stdout",
          "text": [
            "Drive already mounted at /content/drive; to attempt to forcibly remount, call drive.mount(\"/content/drive\", force_remount=True).\n"
          ]
        }
      ]
    },
    {
      "cell_type": "code",
      "source": [
        "!ls drive/MyDrive/Big\\ Data/datasets"
      ],
      "metadata": {
        "id": "N2zZsE4mWIEa",
        "colab": {
          "base_uri": "https://localhost:8080/"
        },
        "outputId": "e0383026-fdab-4c99-baf5-dc2455c8df35"
      },
      "execution_count": 181,
      "outputs": [
        {
          "output_type": "stream",
          "name": "stdout",
          "text": [
            "All_Beauty_5.json  Cell_Phones_and_Accessories_5_subsample.json  Software_5.json\n",
            "Appliances_5.json  Musical_Instruments_5_subsample.json\t\t Video_Games_5_subsample.json\n"
          ]
        }
      ]
    },
    {
      "cell_type": "code",
      "source": [
        "dataset_directory = 'drive/MyDrive/Big Data/datasets'\n",
        "\n",
        "# Gets the list of files in the dataset directory that end in \".json\"\n",
        "json_files = [file for file in os.listdir(dataset_directory) if file.endswith('.json')]\n",
        "\n",
        "# Creates a list of full file paths\n",
        "file_paths = [os.path.join(dataset_directory, file) for file in json_files]"
      ],
      "metadata": {
        "id": "1Ezm-o9Qc6Ii"
      },
      "execution_count": 182,
      "outputs": []
    },
    {
      "cell_type": "code",
      "source": [
        "import json\n",
        "\n",
        "# Function to parse NDJSON (new line-delimited JSON) files and extract specific fields\n",
        "def parse_ndjson(line):\n",
        "    try:\n",
        "        # Parse the JSON line and return only reviewText asin and reviewerID\n",
        "        json_line = json.loads(line)\n",
        "        return (\n",
        "            json_line.get('reviewText', ''),\n",
        "            json_line.get('asin', ''),\n",
        "            json_line.get('reviewerID', '')\n",
        "        )\n",
        "    except json.JSONDecodeError:\n",
        "        # In case of error, skip this record and return None\n",
        "        return None"
      ],
      "metadata": {
        "id": "Xg7bWZmDeCWJ"
      },
      "execution_count": 183,
      "outputs": []
    },
    {
      "cell_type": "code",
      "source": [
        "# Initialize an empty RDD\n",
        "data_rdd = spark.sparkContext.emptyRDD()\n",
        "\n",
        "# Read each file into an RDD, parse its ndjson objects if not None, and union with the existing RDD\n",
        "for file_path in file_paths:\n",
        "    file_rdd = sc.textFile(file_path, 4)\n",
        "    parsed_rdd = file_rdd.map(parse_ndjson).filter(lambda x: x is not None)\n",
        "    data_rdd = data_rdd.union(parsed_rdd)\n",
        "\n",
        "# convert the data_rdd to a distributed Spark DataFrame\n",
        "df = spark.createDataFrame(data_rdd, schema=['review', 'itemID', 'reviewerID'])"
      ],
      "metadata": {
        "id": "sZauPMutEHHW"
      },
      "execution_count": 184,
      "outputs": []
    },
    {
      "cell_type": "markdown",
      "source": [
        "***Defined a json object viewer to observe json objects down the line"
      ],
      "metadata": {
        "id": "T388yMSf4dBj"
      }
    },
    {
      "cell_type": "code",
      "source": [
        "def json_viewer(row):\n",
        "    if row:  # Check if the row is not empty\n",
        "        # If the row is a list, get the first element, assuming it's a Row object\n",
        "        if isinstance(row, list):\n",
        "            row = row[0]\n",
        "        # Convert the Row to a dictionary\n",
        "        row_dict = row.asDict()\n",
        "        # Pretty-print the JSON\n",
        "        print(json.dumps(row_dict, indent=4))\n",
        "    else:\n",
        "        print(\"The row is empty or None.\")"
      ],
      "metadata": {
        "id": "bY_nUnqP2lfB"
      },
      "execution_count": 185,
      "outputs": []
    },
    {
      "cell_type": "markdown",
      "source": [
        "**Data Pre-Proccesing**"
      ],
      "metadata": {
        "id": "leZYCxGgri_m"
      }
    },
    {
      "cell_type": "code",
      "source": [
        "df.show # Shows the attributes of the DataFrame"
      ],
      "metadata": {
        "id": "DAJd5ZPvge4v",
        "colab": {
          "base_uri": "https://localhost:8080/"
        },
        "outputId": "66f44873-1481-42a3-8605-4c3332498dbb"
      },
      "execution_count": 186,
      "outputs": [
        {
          "output_type": "execute_result",
          "data": {
            "text/plain": [
              "<bound method DataFrame.show of DataFrame[review: string, itemID: string, reviewerID: string]>"
            ]
          },
          "metadata": {},
          "execution_count": 186
        }
      ]
    },
    {
      "cell_type": "code",
      "source": [
        "df.count() # Amount of records on the DataFrame"
      ],
      "metadata": {
        "colab": {
          "base_uri": "https://localhost:8080/"
        },
        "id": "hXIqIZ070agO",
        "outputId": "4d5624fd-0b35-4b99-ba3b-af04e446a280"
      },
      "execution_count": 187,
      "outputs": [
        {
          "output_type": "execute_result",
          "data": {
            "text/plain": [
              "118242"
            ]
          },
          "metadata": {},
          "execution_count": 187
        }
      ]
    },
    {
      "cell_type": "code",
      "source": [
        "df.head(1) # Preview a single record"
      ],
      "metadata": {
        "id": "1JB8WoYvVfgr",
        "colab": {
          "base_uri": "https://localhost:8080/"
        },
        "outputId": "4afa297c-88ad-42fd-b7de-f1910d0369df"
      },
      "execution_count": 188,
      "outputs": [
        {
          "output_type": "execute_result",
          "data": {
            "text/plain": [
              "[Row(review=\"I've been using Dreamweaver (and it's predecessor Macromedia's UltraDev) for many years.  For someone who is an experienced web designer, this course is a high-level review of the CS5 version of Dreamweaver, but it doesn't go into a great enough level of detail to find it very useful.\\n\\nOn the other hand, this is a great tool for someone who is a relative novice at web design.  It starts off with a basic overview of HTML and continues through the concepts necessary to build a modern web site.  Someone who goes through this course should exit with enough knowledge to create something that does what you want it do do...within reason.  Don't expect to go off and build an entire e-commerce system with only this class under your belt.\\n\\nIt's important to note that there's a long gap from site design to actual implementation.  This course teaches you how to implement a design.  The user interface and overall user experience is a different subject that isn't covered here...it's possible to do a great implementation of an absolutely abysmal design.  I speak from experience.  :)\\n\\nAs I said above, if you're a novice, a relative newcomer or just an experienced web designer who wants a refresher course, this is a good way to do it.\", itemID='0321719816', reviewerID='A38NELQT98S4H8')]"
            ]
          },
          "metadata": {},
          "execution_count": 188
        }
      ]
    },
    {
      "cell_type": "code",
      "source": [
        "if rerun:\n",
        "  from pyspark.sql.functions import col, count\n",
        "\n",
        "  # Check if there are missing values in the dataset (If necessary, we would fill-in missing values with an appropiate method)\n",
        "  for column in df.columns:\n",
        "      null_count = df.filter(col(column).isNull()).count()\n",
        "      print(f\"Number of nulls in column {column}: {null_count}\")"
      ],
      "metadata": {
        "id": "RR6lncBXVMo9",
        "colab": {
          "base_uri": "https://localhost:8080/"
        },
        "outputId": "83c1ea04-c8df-4cb5-94c5-346ed3224d2e"
      },
      "execution_count": 189,
      "outputs": [
        {
          "output_type": "stream",
          "name": "stdout",
          "text": [
            "Number of nulls in column review: 0\n",
            "Number of nulls in column itemID: 0\n",
            "Number of nulls in column reviewerID: 0\n"
          ]
        }
      ]
    },
    {
      "cell_type": "markdown",
      "source": [
        "**Text Pre-Processing**"
      ],
      "metadata": {
        "id": "c_1op0sWyQwv"
      }
    },
    {
      "cell_type": "markdown",
      "source": [
        "1. Text Cleaning"
      ],
      "metadata": {
        "id": "cfFm5Gm3zPLM"
      }
    },
    {
      "cell_type": "code",
      "source": [
        "from pyspark.sql.functions import regexp_replace, udf, PandasUDFType\n",
        "\n",
        "# Keep contractions by allowing apostrophes in words\n",
        "pattern = \"[^A-Za-z'\\\\s]+\"\n",
        "cleaned_df = df.withColumn(\"cleaned_review\", regexp_replace(\"review\", pattern, \"\"))"
      ],
      "metadata": {
        "id": "GTh2ANuXzSTf"
      },
      "execution_count": 190,
      "outputs": []
    },
    {
      "cell_type": "markdown",
      "source": [
        "1.b Contractions expanding. Although this step in not estrictly neccesary. Expanding contractions can make the text clearer and more consistent for the model, which can improve its ability to interpret and analyze the words."
      ],
      "metadata": {
        "id": "m3PAJkBzXpLk"
      }
    },
    {
      "cell_type": "code",
      "source": [
        "%%capture\n",
        "if rerun:\n",
        "  !pip install contractions"
      ],
      "metadata": {
        "id": "YhpBMJ0JSrS1"
      },
      "execution_count": 191,
      "outputs": []
    },
    {
      "cell_type": "code",
      "source": [
        "from pyspark.sql.types import StringType\n",
        "import contractions\n",
        "\n",
        "# Define a UDF to expand contractions using the `contractions` library\n",
        "def expand_contractions_text(text):\n",
        "    return contractions.fix(text)\n",
        "\n",
        "expand_contractions_udf = udf(expand_contractions_text, StringType())\n",
        "\n",
        "# Apply the UDF to the DataFrame to create a new column with expanded contractions\n",
        "expanded_df = cleaned_df.withColumn(\"expanded_review\", expand_contractions_udf(\"cleaned_review\"))"
      ],
      "metadata": {
        "id": "0LJWvgYlRxnf"
      },
      "execution_count": 192,
      "outputs": []
    },
    {
      "cell_type": "markdown",
      "source": [
        "2. Tokenization"
      ],
      "metadata": {
        "id": "ASy-qlIWyfeM"
      }
    },
    {
      "cell_type": "code",
      "source": [
        "from pyspark.ml.feature import Tokenizer\n",
        "\n",
        "# Tokenize the text reviews\n",
        "tokenizer = Tokenizer(inputCol=\"expanded_review\", outputCol=\"words\")\n",
        "tokenized_df = tokenizer.transform(expanded_df)"
      ],
      "metadata": {
        "id": "-BdQbJlfyjg9"
      },
      "execution_count": 193,
      "outputs": []
    },
    {
      "cell_type": "markdown",
      "source": [
        "3. Stopword Removal"
      ],
      "metadata": {
        "id": "3skTysCEz_RV"
      }
    },
    {
      "cell_type": "code",
      "source": [
        "from pyspark.ml.feature import StopWordsRemover\n",
        "\n",
        "# Remove stopwords\n",
        "remover = StopWordsRemover(inputCol=\"words\", outputCol=\"filtered_words\")\n",
        "filtered_df = remover.transform(tokenized_df)"
      ],
      "metadata": {
        "id": "d_hMXsuAyPKs"
      },
      "execution_count": 194,
      "outputs": []
    },
    {
      "cell_type": "markdown",
      "source": [
        "4. Stemming/Lemmatization"
      ],
      "metadata": {
        "id": "A8p8I4tF0Ib1"
      }
    },
    {
      "cell_type": "code",
      "source": [
        "%%capture\n",
        "from nltk.stem.porter import PorterStemmer\n",
        "import pandas as pd\n",
        "import nltk\n",
        "\n",
        "nltk.download('punkt')\n",
        "stemmer = PorterStemmer()\n",
        "\n",
        "# Define a pandas UDF to stem the words\n",
        "@pandas_udf(\"array<string>\", PandasUDFType.SCALAR_ITER)\n",
        "def stem_text(iterator):\n",
        "    for words in iterator:\n",
        "        yield pd.Series([[stemmer.stem(word) for word in word_list] for word_list in words])\n",
        "\n",
        "# Apply stemming to the DataFrame\n",
        "stemmed_df = filtered_df.withColumn(\"stemmed_words\", stem_text(\"filtered_words\"))"
      ],
      "metadata": {
        "colab": {
          "base_uri": "https://localhost:8080/"
        },
        "id": "hlBsdmcR0HUC",
        "outputId": "5f9683a5-c829-4298-b870-14d13c53ec6b"
      },
      "execution_count": 195,
      "outputs": [
        {
          "output_type": "stream",
          "name": "stderr",
          "text": [
            "[nltk_data] Downloading package punkt to /root/nltk_data...\n",
            "[nltk_data]   Package punkt is already up-to-date!\n"
          ]
        }
      ]
    },
    {
      "cell_type": "code",
      "source": [
        "json_viewer(stemmed_df.take(1))"
      ],
      "metadata": {
        "colab": {
          "base_uri": "https://localhost:8080/"
        },
        "id": "wjkg0c1b45aD",
        "outputId": "88b5c77e-5d9f-40ea-e7ad-92e7bebd544d"
      },
      "execution_count": 196,
      "outputs": [
        {
          "output_type": "stream",
          "name": "stdout",
          "text": [
            "{\n",
            "    \"review\": \"I've been using Dreamweaver (and it's predecessor Macromedia's UltraDev) for many years.  For someone who is an experienced web designer, this course is a high-level review of the CS5 version of Dreamweaver, but it doesn't go into a great enough level of detail to find it very useful.\\n\\nOn the other hand, this is a great tool for someone who is a relative novice at web design.  It starts off with a basic overview of HTML and continues through the concepts necessary to build a modern web site.  Someone who goes through this course should exit with enough knowledge to create something that does what you want it do do...within reason.  Don't expect to go off and build an entire e-commerce system with only this class under your belt.\\n\\nIt's important to note that there's a long gap from site design to actual implementation.  This course teaches you how to implement a design.  The user interface and overall user experience is a different subject that isn't covered here...it's possible to do a great implementation of an absolutely abysmal design.  I speak from experience.  :)\\n\\nAs I said above, if you're a novice, a relative newcomer or just an experienced web designer who wants a refresher course, this is a good way to do it.\",\n",
            "    \"itemID\": \"0321719816\",\n",
            "    \"reviewerID\": \"A38NELQT98S4H8\",\n",
            "    \"cleaned_review\": \"I've been using Dreamweaver and it's predecessor Macromedia's UltraDev for many years  For someone who is an experienced web designer this course is a highlevel review of the CS version of Dreamweaver but it doesn't go into a great enough level of detail to find it very useful\\n\\nOn the other hand this is a great tool for someone who is a relative novice at web design  It starts off with a basic overview of HTML and continues through the concepts necessary to build a modern web site  Someone who goes through this course should exit with enough knowledge to create something that does what you want it do dowithin reason  Don't expect to go off and build an entire ecommerce system with only this class under your belt\\n\\nIt's important to note that there's a long gap from site design to actual implementation  This course teaches you how to implement a design  The user interface and overall user experience is a different subject that isn't covered hereit's possible to do a great implementation of an absolutely abysmal design  I speak from experience  \\n\\nAs I said above if you're a novice a relative newcomer or just an experienced web designer who wants a refresher course this is a good way to do it\",\n",
            "    \"expanded_review\": \"I have been using Dreamweaver and it is predecessor Macromedia's UltraDev for many years  For someone who is an experienced web designer this course is a highlevel review of the CS version of Dreamweaver but it does not go into a great enough level of detail to find it very useful\\n\\nOn the other hand this is a great tool for someone who is a relative novice at web design  It starts off with a basic overview of HTML and continues through the concepts necessary to build a modern web site  Someone who goes through this course should exit with enough knowledge to create something that does what you want it do dowithin reason  Do not expect to go off and build an entire ecommerce system with only this class under your belt\\n\\nIt is important to note that there is a long gap from site design to actual implementation  This course teaches you how to implement a design  The user interface and overall user experience is a different subject that is not covered hereit's possible to do a great implementation of an absolutely abysmal design  I speak from experience  \\n\\nAs I said above if you are a novice a relative newcomer or just an experienced web designer who wants a refresher course this is a good way to do it\",\n",
            "    \"words\": [\n",
            "        \"i\",\n",
            "        \"have\",\n",
            "        \"been\",\n",
            "        \"using\",\n",
            "        \"dreamweaver\",\n",
            "        \"and\",\n",
            "        \"it\",\n",
            "        \"is\",\n",
            "        \"predecessor\",\n",
            "        \"macromedia's\",\n",
            "        \"ultradev\",\n",
            "        \"for\",\n",
            "        \"many\",\n",
            "        \"years\",\n",
            "        \"\",\n",
            "        \"for\",\n",
            "        \"someone\",\n",
            "        \"who\",\n",
            "        \"is\",\n",
            "        \"an\",\n",
            "        \"experienced\",\n",
            "        \"web\",\n",
            "        \"designer\",\n",
            "        \"this\",\n",
            "        \"course\",\n",
            "        \"is\",\n",
            "        \"a\",\n",
            "        \"highlevel\",\n",
            "        \"review\",\n",
            "        \"of\",\n",
            "        \"the\",\n",
            "        \"cs\",\n",
            "        \"version\",\n",
            "        \"of\",\n",
            "        \"dreamweaver\",\n",
            "        \"but\",\n",
            "        \"it\",\n",
            "        \"does\",\n",
            "        \"not\",\n",
            "        \"go\",\n",
            "        \"into\",\n",
            "        \"a\",\n",
            "        \"great\",\n",
            "        \"enough\",\n",
            "        \"level\",\n",
            "        \"of\",\n",
            "        \"detail\",\n",
            "        \"to\",\n",
            "        \"find\",\n",
            "        \"it\",\n",
            "        \"very\",\n",
            "        \"useful\",\n",
            "        \"\",\n",
            "        \"on\",\n",
            "        \"the\",\n",
            "        \"other\",\n",
            "        \"hand\",\n",
            "        \"this\",\n",
            "        \"is\",\n",
            "        \"a\",\n",
            "        \"great\",\n",
            "        \"tool\",\n",
            "        \"for\",\n",
            "        \"someone\",\n",
            "        \"who\",\n",
            "        \"is\",\n",
            "        \"a\",\n",
            "        \"relative\",\n",
            "        \"novice\",\n",
            "        \"at\",\n",
            "        \"web\",\n",
            "        \"design\",\n",
            "        \"\",\n",
            "        \"it\",\n",
            "        \"starts\",\n",
            "        \"off\",\n",
            "        \"with\",\n",
            "        \"a\",\n",
            "        \"basic\",\n",
            "        \"overview\",\n",
            "        \"of\",\n",
            "        \"html\",\n",
            "        \"and\",\n",
            "        \"continues\",\n",
            "        \"through\",\n",
            "        \"the\",\n",
            "        \"concepts\",\n",
            "        \"necessary\",\n",
            "        \"to\",\n",
            "        \"build\",\n",
            "        \"a\",\n",
            "        \"modern\",\n",
            "        \"web\",\n",
            "        \"site\",\n",
            "        \"\",\n",
            "        \"someone\",\n",
            "        \"who\",\n",
            "        \"goes\",\n",
            "        \"through\",\n",
            "        \"this\",\n",
            "        \"course\",\n",
            "        \"should\",\n",
            "        \"exit\",\n",
            "        \"with\",\n",
            "        \"enough\",\n",
            "        \"knowledge\",\n",
            "        \"to\",\n",
            "        \"create\",\n",
            "        \"something\",\n",
            "        \"that\",\n",
            "        \"does\",\n",
            "        \"what\",\n",
            "        \"you\",\n",
            "        \"want\",\n",
            "        \"it\",\n",
            "        \"do\",\n",
            "        \"dowithin\",\n",
            "        \"reason\",\n",
            "        \"\",\n",
            "        \"do\",\n",
            "        \"not\",\n",
            "        \"expect\",\n",
            "        \"to\",\n",
            "        \"go\",\n",
            "        \"off\",\n",
            "        \"and\",\n",
            "        \"build\",\n",
            "        \"an\",\n",
            "        \"entire\",\n",
            "        \"ecommerce\",\n",
            "        \"system\",\n",
            "        \"with\",\n",
            "        \"only\",\n",
            "        \"this\",\n",
            "        \"class\",\n",
            "        \"under\",\n",
            "        \"your\",\n",
            "        \"belt\",\n",
            "        \"\",\n",
            "        \"it\",\n",
            "        \"is\",\n",
            "        \"important\",\n",
            "        \"to\",\n",
            "        \"note\",\n",
            "        \"that\",\n",
            "        \"there\",\n",
            "        \"is\",\n",
            "        \"a\",\n",
            "        \"long\",\n",
            "        \"gap\",\n",
            "        \"from\",\n",
            "        \"site\",\n",
            "        \"design\",\n",
            "        \"to\",\n",
            "        \"actual\",\n",
            "        \"implementation\",\n",
            "        \"\",\n",
            "        \"this\",\n",
            "        \"course\",\n",
            "        \"teaches\",\n",
            "        \"you\",\n",
            "        \"how\",\n",
            "        \"to\",\n",
            "        \"implement\",\n",
            "        \"a\",\n",
            "        \"design\",\n",
            "        \"\",\n",
            "        \"the\",\n",
            "        \"user\",\n",
            "        \"interface\",\n",
            "        \"and\",\n",
            "        \"overall\",\n",
            "        \"user\",\n",
            "        \"experience\",\n",
            "        \"is\",\n",
            "        \"a\",\n",
            "        \"different\",\n",
            "        \"subject\",\n",
            "        \"that\",\n",
            "        \"is\",\n",
            "        \"not\",\n",
            "        \"covered\",\n",
            "        \"hereit's\",\n",
            "        \"possible\",\n",
            "        \"to\",\n",
            "        \"do\",\n",
            "        \"a\",\n",
            "        \"great\",\n",
            "        \"implementation\",\n",
            "        \"of\",\n",
            "        \"an\",\n",
            "        \"absolutely\",\n",
            "        \"abysmal\",\n",
            "        \"design\",\n",
            "        \"\",\n",
            "        \"i\",\n",
            "        \"speak\",\n",
            "        \"from\",\n",
            "        \"experience\",\n",
            "        \"\",\n",
            "        \"\",\n",
            "        \"\",\n",
            "        \"as\",\n",
            "        \"i\",\n",
            "        \"said\",\n",
            "        \"above\",\n",
            "        \"if\",\n",
            "        \"you\",\n",
            "        \"are\",\n",
            "        \"a\",\n",
            "        \"novice\",\n",
            "        \"a\",\n",
            "        \"relative\",\n",
            "        \"newcomer\",\n",
            "        \"or\",\n",
            "        \"just\",\n",
            "        \"an\",\n",
            "        \"experienced\",\n",
            "        \"web\",\n",
            "        \"designer\",\n",
            "        \"who\",\n",
            "        \"wants\",\n",
            "        \"a\",\n",
            "        \"refresher\",\n",
            "        \"course\",\n",
            "        \"this\",\n",
            "        \"is\",\n",
            "        \"a\",\n",
            "        \"good\",\n",
            "        \"way\",\n",
            "        \"to\",\n",
            "        \"do\",\n",
            "        \"it\"\n",
            "    ],\n",
            "    \"filtered_words\": [\n",
            "        \"using\",\n",
            "        \"dreamweaver\",\n",
            "        \"predecessor\",\n",
            "        \"macromedia's\",\n",
            "        \"ultradev\",\n",
            "        \"many\",\n",
            "        \"years\",\n",
            "        \"\",\n",
            "        \"someone\",\n",
            "        \"experienced\",\n",
            "        \"web\",\n",
            "        \"designer\",\n",
            "        \"course\",\n",
            "        \"highlevel\",\n",
            "        \"review\",\n",
            "        \"cs\",\n",
            "        \"version\",\n",
            "        \"dreamweaver\",\n",
            "        \"go\",\n",
            "        \"great\",\n",
            "        \"enough\",\n",
            "        \"level\",\n",
            "        \"detail\",\n",
            "        \"find\",\n",
            "        \"useful\",\n",
            "        \"\",\n",
            "        \"hand\",\n",
            "        \"great\",\n",
            "        \"tool\",\n",
            "        \"someone\",\n",
            "        \"relative\",\n",
            "        \"novice\",\n",
            "        \"web\",\n",
            "        \"design\",\n",
            "        \"\",\n",
            "        \"starts\",\n",
            "        \"basic\",\n",
            "        \"overview\",\n",
            "        \"html\",\n",
            "        \"continues\",\n",
            "        \"concepts\",\n",
            "        \"necessary\",\n",
            "        \"build\",\n",
            "        \"modern\",\n",
            "        \"web\",\n",
            "        \"site\",\n",
            "        \"\",\n",
            "        \"someone\",\n",
            "        \"goes\",\n",
            "        \"course\",\n",
            "        \"exit\",\n",
            "        \"enough\",\n",
            "        \"knowledge\",\n",
            "        \"create\",\n",
            "        \"something\",\n",
            "        \"want\",\n",
            "        \"dowithin\",\n",
            "        \"reason\",\n",
            "        \"\",\n",
            "        \"expect\",\n",
            "        \"go\",\n",
            "        \"build\",\n",
            "        \"entire\",\n",
            "        \"ecommerce\",\n",
            "        \"system\",\n",
            "        \"class\",\n",
            "        \"belt\",\n",
            "        \"\",\n",
            "        \"important\",\n",
            "        \"note\",\n",
            "        \"long\",\n",
            "        \"gap\",\n",
            "        \"site\",\n",
            "        \"design\",\n",
            "        \"actual\",\n",
            "        \"implementation\",\n",
            "        \"\",\n",
            "        \"course\",\n",
            "        \"teaches\",\n",
            "        \"implement\",\n",
            "        \"design\",\n",
            "        \"\",\n",
            "        \"user\",\n",
            "        \"interface\",\n",
            "        \"overall\",\n",
            "        \"user\",\n",
            "        \"experience\",\n",
            "        \"different\",\n",
            "        \"subject\",\n",
            "        \"covered\",\n",
            "        \"hereit's\",\n",
            "        \"possible\",\n",
            "        \"great\",\n",
            "        \"implementation\",\n",
            "        \"absolutely\",\n",
            "        \"abysmal\",\n",
            "        \"design\",\n",
            "        \"\",\n",
            "        \"speak\",\n",
            "        \"experience\",\n",
            "        \"\",\n",
            "        \"\",\n",
            "        \"\",\n",
            "        \"said\",\n",
            "        \"novice\",\n",
            "        \"relative\",\n",
            "        \"newcomer\",\n",
            "        \"experienced\",\n",
            "        \"web\",\n",
            "        \"designer\",\n",
            "        \"wants\",\n",
            "        \"refresher\",\n",
            "        \"course\",\n",
            "        \"good\",\n",
            "        \"way\"\n",
            "    ],\n",
            "    \"stemmed_words\": [\n",
            "        \"use\",\n",
            "        \"dreamweav\",\n",
            "        \"predecessor\",\n",
            "        \"macromedia'\",\n",
            "        \"ultradev\",\n",
            "        \"mani\",\n",
            "        \"year\",\n",
            "        \"\",\n",
            "        \"someon\",\n",
            "        \"experienc\",\n",
            "        \"web\",\n",
            "        \"design\",\n",
            "        \"cours\",\n",
            "        \"highlevel\",\n",
            "        \"review\",\n",
            "        \"cs\",\n",
            "        \"version\",\n",
            "        \"dreamweav\",\n",
            "        \"go\",\n",
            "        \"great\",\n",
            "        \"enough\",\n",
            "        \"level\",\n",
            "        \"detail\",\n",
            "        \"find\",\n",
            "        \"use\",\n",
            "        \"\",\n",
            "        \"hand\",\n",
            "        \"great\",\n",
            "        \"tool\",\n",
            "        \"someon\",\n",
            "        \"rel\",\n",
            "        \"novic\",\n",
            "        \"web\",\n",
            "        \"design\",\n",
            "        \"\",\n",
            "        \"start\",\n",
            "        \"basic\",\n",
            "        \"overview\",\n",
            "        \"html\",\n",
            "        \"continu\",\n",
            "        \"concept\",\n",
            "        \"necessari\",\n",
            "        \"build\",\n",
            "        \"modern\",\n",
            "        \"web\",\n",
            "        \"site\",\n",
            "        \"\",\n",
            "        \"someon\",\n",
            "        \"goe\",\n",
            "        \"cours\",\n",
            "        \"exit\",\n",
            "        \"enough\",\n",
            "        \"knowledg\",\n",
            "        \"creat\",\n",
            "        \"someth\",\n",
            "        \"want\",\n",
            "        \"dowithin\",\n",
            "        \"reason\",\n",
            "        \"\",\n",
            "        \"expect\",\n",
            "        \"go\",\n",
            "        \"build\",\n",
            "        \"entir\",\n",
            "        \"ecommerc\",\n",
            "        \"system\",\n",
            "        \"class\",\n",
            "        \"belt\",\n",
            "        \"\",\n",
            "        \"import\",\n",
            "        \"note\",\n",
            "        \"long\",\n",
            "        \"gap\",\n",
            "        \"site\",\n",
            "        \"design\",\n",
            "        \"actual\",\n",
            "        \"implement\",\n",
            "        \"\",\n",
            "        \"cours\",\n",
            "        \"teach\",\n",
            "        \"implement\",\n",
            "        \"design\",\n",
            "        \"\",\n",
            "        \"user\",\n",
            "        \"interfac\",\n",
            "        \"overal\",\n",
            "        \"user\",\n",
            "        \"experi\",\n",
            "        \"differ\",\n",
            "        \"subject\",\n",
            "        \"cover\",\n",
            "        \"hereit'\",\n",
            "        \"possibl\",\n",
            "        \"great\",\n",
            "        \"implement\",\n",
            "        \"absolut\",\n",
            "        \"abysm\",\n",
            "        \"design\",\n",
            "        \"\",\n",
            "        \"speak\",\n",
            "        \"experi\",\n",
            "        \"\",\n",
            "        \"\",\n",
            "        \"\",\n",
            "        \"said\",\n",
            "        \"novic\",\n",
            "        \"rel\",\n",
            "        \"newcom\",\n",
            "        \"experienc\",\n",
            "        \"web\",\n",
            "        \"design\",\n",
            "        \"want\",\n",
            "        \"refresh\",\n",
            "        \"cours\",\n",
            "        \"good\",\n",
            "        \"way\"\n",
            "    ]\n",
            "}\n"
          ]
        }
      ]
    }
  ]
}