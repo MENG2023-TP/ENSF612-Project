{
  "nbformat": 4,
  "nbformat_minor": 0,
  "metadata": {
    "colab": {
      "provenance": []
    },
    "kernelspec": {
      "name": "python3",
      "display_name": "Python 3"
    },
    "language_info": {
      "name": "python"
    }
  },
  "cells": [
    {
      "cell_type": "markdown",
      "source": [
        "<table>\n",
        "<tr>\n",
        "    <td>\n",
        "        <img src=\"https://www.wordstream.com/wp-content/uploads/2021/07/how-to-get-amazon-reviews.png\" width=\"200\"/>\n",
        "    </td>\n",
        "    <td style=\"text-align: left; vertical-align: top;\">\n",
        "        <h1><strong>Amazon Reviews</strong><br></h1>\n",
        "        <h4>Engineering Large Scale Data Analytics Systems<br>\n",
        "        ENSF 612 - Fall 2023</h4>\n",
        "    </td>\n",
        "</tr>\n",
        "</table>\n"
      ],
      "metadata": {
        "id": "PPqcEas0zbok"
      }
    },
    {
      "cell_type": "markdown",
      "source": [
        "*** Note: run all the code the first time. For subsecuent runs, you can set the individual process flags below to False. This will avoid resetting spark, reloading the datasets or repeat computing intensive tasks that were previously computed and stored.\n"
      ],
      "metadata": {
        "id": "Vj1DYh7gVroz"
      }
    },
    {
      "cell_type": "code",
      "source": [
        "set_spark = True\n",
        "load_datasets = True\n",
        "inspect_data = True\n",
        "pre_process = True"
      ],
      "metadata": {
        "id": "Dtm4ra-vWu6K"
      },
      "execution_count": 6,
      "outputs": []
    },
    {
      "cell_type": "markdown",
      "source": [
        "**Setting Up Spark, Spark NLP and Required Modules**"
      ],
      "metadata": {
        "id": "f9WO6Sbd1kLP"
      }
    },
    {
      "cell_type": "code",
      "source": [
        "# the capture magic command captures the output of the block to avoid clutter\n",
        "%%capture\n",
        "\n",
        "if set_spark:\n",
        "  !apt-get install openjdk-8-jdk-headless -qq > /dev/null\n",
        "  !wget https://dlcdn.apache.org/spark/spark-3.3.3/spark-3.3.3-bin-hadoop3.tgz\n",
        "  !tar -xvf spark-3.3.3-bin-hadoop3.tgz\n",
        "  !pip install findspark\n",
        "  !pip install -q spark-nlp\n",
        "  !pip install contractions\n",
        "\n",
        "  import os\n",
        "  os.environ[\"JAVA_HOME\"] = \"/usr/lib/jvm/java-8-openjdk-amd64\"\n",
        "  os.environ[\"SPARK_HOME\"] = \"/content/spark-3.3.3-bin-hadoop3\"\n",
        "\n",
        "  import findspark\n",
        "  findspark.init()\n",
        "  findspark.find()\n",
        "  from pyspark.sql import SparkSession\n",
        "  import sparknlp\n",
        "\n",
        "  # Setting up 4 threads, potentially allowing a 4-core processor execute 4 tasks in parallel\n",
        "  # And adding the Spark NLP package to the Spark session\n",
        "  spark = SparkSession.builder\\\n",
        "      .appName(\"Colab\")\\\n",
        "      .master(\"local[4]\")\\\n",
        "      .config(\"spark.jars.packages\", \"com.johnsnowlabs.nlp:spark-nlp_2.12:5.1.4\")\\\n",
        "      .getOrCreate()\n",
        "\n",
        "  sc = spark.sparkContext"
      ],
      "metadata": {
        "id": "Pxq1F4TUz2w8"
      },
      "execution_count": 7,
      "outputs": []
    },
    {
      "cell_type": "markdown",
      "source": [
        "**Cloning Github Repository and Loading Datasets**"
      ],
      "metadata": {
        "id": "MsH2kePPYp5H"
      }
    },
    {
      "cell_type": "code",
      "source": [
        "if load_datasets:\n",
        "  !git clone https://github.com/MENG2023-TP/ENSF612-Project.git"
      ],
      "metadata": {
        "colab": {
          "base_uri": "https://localhost:8080/"
        },
        "id": "GmhKWpfEiyK6",
        "outputId": "e5679966-0da2-48c3-cb0f-539cc3aa5ded"
      },
      "execution_count": 8,
      "outputs": [
        {
          "output_type": "stream",
          "name": "stdout",
          "text": [
            "fatal: destination path 'ENSF612-Project' already exists and is not an empty directory.\n"
          ]
        }
      ]
    },
    {
      "cell_type": "code",
      "source": [
        "!ls ENSF612-Project/datasets"
      ],
      "metadata": {
        "id": "N2zZsE4mWIEa",
        "colab": {
          "base_uri": "https://localhost:8080/"
        },
        "outputId": "f5e130b9-6ef5-4edb-dec5-e709c91eb2e3"
      },
      "execution_count": 9,
      "outputs": [
        {
          "output_type": "stream",
          "name": "stdout",
          "text": [
            "All_Beauty_5.json  Cell_Phones_and_Accessories_5_subsample.json  Software_5.json\n",
            "Appliances_5.json  Musical_Instruments_5_subsample.json\t\t Video_Games_5_subsample.json\n"
          ]
        }
      ]
    },
    {
      "cell_type": "code",
      "source": [
        "dataset_directory = 'ENSF612-Project/datasets'\n",
        "\n",
        "# Gets the list of files in the dataset directory that end in \".json\"\n",
        "json_files = [file for file in os.listdir(dataset_directory) if file.endswith('.json')]\n",
        "\n",
        "# Creates a list of full file paths\n",
        "file_paths = [os.path.join(dataset_directory, file) for file in json_files]"
      ],
      "metadata": {
        "id": "1Ezm-o9Qc6Ii"
      },
      "execution_count": 10,
      "outputs": []
    },
    {
      "cell_type": "code",
      "source": [
        "import json\n",
        "\n",
        "# Function to parse NDJSON (new line-delimited JSON) files and extract specific fields\n",
        "def parse_ndjson(line):\n",
        "    try:\n",
        "        # Parse the JSON line and return only reviewText asin and reviewerID\n",
        "        json_line = json.loads(line)\n",
        "        return (\n",
        "            json_line.get('overall', ''),\n",
        "            json_line.get('reviewText', '')\n",
        "        )\n",
        "    except json.JSONDecodeError:\n",
        "        # In case of error, skip this record and return None\n",
        "        return None"
      ],
      "metadata": {
        "id": "Xg7bWZmDeCWJ"
      },
      "execution_count": 11,
      "outputs": []
    },
    {
      "cell_type": "code",
      "source": [
        "if load_datasets:\n",
        "  # Initialize an empty RDD\n",
        "  data_rdd = spark.sparkContext.emptyRDD()\n",
        "\n",
        "  # Read each file into an RDD, parse its ndjson objects if not None, and union with the existing RDD\n",
        "  for file_path in file_paths:\n",
        "      file_rdd = sc.textFile(file_path, 4)\n",
        "      parsed_rdd = file_rdd.map(parse_ndjson).filter(lambda x: x is not None)\n",
        "      data_rdd = data_rdd.union(parsed_rdd)\n",
        "\n",
        "  # convert the data_rdd to a distributed Spark DataFrame\n",
        "  df = spark.createDataFrame(data_rdd, schema=['score', 'review']).cache()"
      ],
      "metadata": {
        "id": "sZauPMutEHHW"
      },
      "execution_count": 12,
      "outputs": []
    },
    {
      "cell_type": "markdown",
      "source": [
        "**Data Inspection**"
      ],
      "metadata": {
        "id": "leZYCxGgri_m"
      }
    },
    {
      "cell_type": "code",
      "source": [
        "type(df) # Shows type of df"
      ],
      "metadata": {
        "id": "DAJd5ZPvge4v",
        "colab": {
          "base_uri": "https://localhost:8080/"
        },
        "outputId": "021ca7fd-ce0f-4df9-84bb-f98be65e3491"
      },
      "execution_count": 13,
      "outputs": [
        {
          "output_type": "execute_result",
          "data": {
            "text/plain": [
              "pyspark.sql.dataframe.DataFrame"
            ]
          },
          "metadata": {},
          "execution_count": 13
        }
      ]
    },
    {
      "cell_type": "code",
      "source": [
        "df # Shows attributes of df"
      ],
      "metadata": {
        "colab": {
          "base_uri": "https://localhost:8080/"
        },
        "id": "A1qYQz9JsRcf",
        "outputId": "17563c47-0a4e-4bac-ff11-e4d7ad6c2c07"
      },
      "execution_count": 14,
      "outputs": [
        {
          "output_type": "execute_result",
          "data": {
            "text/plain": [
              "DataFrame[score: double, review: string]"
            ]
          },
          "metadata": {},
          "execution_count": 14
        }
      ]
    },
    {
      "cell_type": "code",
      "source": [
        "if inspect_data:\n",
        "  count = df.count() # Count amount of records in the DataFrame\n",
        "count"
      ],
      "metadata": {
        "colab": {
          "base_uri": "https://localhost:8080/"
        },
        "id": "hXIqIZ070agO",
        "outputId": "c62d9e8f-c899-414f-9515-b96e7d3542f0"
      },
      "execution_count": 15,
      "outputs": [
        {
          "output_type": "execute_result",
          "data": {
            "text/plain": [
              "118242"
            ]
          },
          "metadata": {},
          "execution_count": 15
        }
      ]
    },
    {
      "cell_type": "code",
      "source": [
        "df.take(1) # Preview a single record"
      ],
      "metadata": {
        "id": "1JB8WoYvVfgr",
        "colab": {
          "base_uri": "https://localhost:8080/"
        },
        "outputId": "01ab761e-8f02-41d5-ca74-95bd5d059bc0"
      },
      "execution_count": 16,
      "outputs": [
        {
          "output_type": "execute_result",
          "data": {
            "text/plain": [
              "[Row(score=5.0, review=\"Grand Theft Auto III is quite possibly the best game ever created.  With a fully-diverse world complete with po-po, various gangs and affiliations; each with their own specific type of car that they drive, angry pedestrians, mobs, thiefs, innocent people, various cars ranging from nice sports cars to crappy Volkswagen esque vehicles, to mack trucks, to pick up trucks, delivery vans, buses, tanks, taxis, speed and police boats...whatever... you name it.\\nYou can virtually go anywhere in the humongous city and either complete missions or wreak havoc on pedestrians.  Both objectives are equally fun.  You can get a kick out of standing a top a roof or parking garage and sniping the innocent pedestrians below, killing and fighting various gang members and watching their buddies come help them out, start a fight with a random pedestrian who says something you don't particularly like when you walk by, defy the cops etc. etc.  Steal a taxi and earn money dropping off different people at different locations.  Steal a Police car and run down other criminals who choose to disobey the law, steal an ambulance and pick up hurt people and take them to the hospital.  You can even do fire truck missions.\\nThey even have a nice little trick stunt bonus systems which awards money for the crazy stuff you do with your car.  And don't forget you can steal any car you want.  So that means you can stand on the highway, stop a car, pull the driver out the car and drive away without any problems.  Or if you see a nice car in the parking lot you can just hop in and take it.  Some cars have alarms on them and it goes off when you try to steal it.  Ride by the police with the alarm going and they will effectively chase you.  You can pick up hookers off the street to serve you up for a price of course and when they are done you can get your money back by putting them six feet under.  Not to mention side missions like rampage, where you kill as many as possible.  They have one where you control toy cars that explode when you press a button.  There is just so much to do!\\nIt is especially fun to see how many stars you can get.  You can get up to six total stars.  And as your stars increase, the amount of police presence and awareness increases. Get three stars and the police presence is heavy complete with a helicopter tracking your every move.  Of course you can rid yourself of the helicopter by sending a couple rockets its way from your rocket launcher but that only increases your stars. Get more than three stars and the FBI comes after you.  Get a full six stars and the army brings out the tank looking for you.  If you have a hot car you can take it to the shop and have them install a new engine and get a new paint job and the cops won't recognize you!\\nThe regular missions for each `cell' of the criminal organization have logical and necessary tasks for you to complete for them.  Doing so effectively and efficiently will earn you money to buy weapons.  The choice of weapons is good ranging from uzis, 9mm, shotguns, and sniper rifles to grenades, rocket launchers, machine guns and explosives.  You can wire a car with a bomb and dismiss of someone you don't like.  Crush Cars to destroy evidence, break people out of jail, perform hits, heck you can even do a drive-by with an uzi!  It is especially tight when you turn to Game FM on the radio station, steal a Yardie Lobo ( which comes complete with a fully active hydraulic system ) gangsta lean through your enemy gangs hood and do a drive-by on the gang members!  This kind of experience is just so fun.  And when you kill local gang members each time you roll through their streets they will try to steal your car, beat you up, or shoot you.\\nTop this off with nine different radio stations that cater to all tastes, excellent replay value, cars that would handle like real cars, easy playability and controls, excellent graphics for this type of game, great voice acting and you have got one of the greatest games ever.  I can't express my approval of this game.  The easiest five star rating ever.\")]"
            ]
          },
          "metadata": {},
          "execution_count": 16
        }
      ]
    },
    {
      "cell_type": "code",
      "source": [
        "if inspect_data:\n",
        "  from pyspark.sql.functions import col, sum\n",
        "  null_count = df.select([sum(col(c).isNull().cast(\"int\")).alias(c) for c in df.columns]).cache()  # Count null values"
      ],
      "metadata": {
        "id": "RR6lncBXVMo9"
      },
      "execution_count": 17,
      "outputs": []
    },
    {
      "cell_type": "code",
      "source": [
        "null_count.show()"
      ],
      "metadata": {
        "colab": {
          "base_uri": "https://localhost:8080/"
        },
        "id": "WJEF_T7Dq2qc",
        "outputId": "744ecbb0-66b4-4d40-a59e-958e1d20479f"
      },
      "execution_count": 18,
      "outputs": [
        {
          "output_type": "stream",
          "name": "stdout",
          "text": [
            "+-----+------+\n",
            "|score|review|\n",
            "+-----+------+\n",
            "|    0|     0|\n",
            "+-----+------+\n",
            "\n"
          ]
        }
      ]
    },
    {
      "cell_type": "markdown",
      "source": [
        "**Text Pre-Processing**"
      ],
      "metadata": {
        "id": "c_1op0sWyQwv"
      }
    },
    {
      "cell_type": "markdown",
      "source": [
        "Expanding contractions\n",
        "\n",
        "Although this step in not estrictly neccesary. Expanding contractions can make the text clearer and more consistent for the model, which can improve its ability to interpret and analyze the words."
      ],
      "metadata": {
        "id": "XDaErNxGPY0H"
      }
    },
    {
      "cell_type": "code",
      "source": [
        "if pre_process:\n",
        "  from pyspark.sql.functions import udf\n",
        "  from pyspark.sql.types import StringType\n",
        "  import contractions\n",
        "\n",
        "  # Define the UDF for expanding contractions\n",
        "  def expand_contractions_text(text):\n",
        "      return contractions.fix(text)\n",
        "\n",
        "  expand_contractions_udf = udf(expand_contractions_text, StringType())\n",
        "\n",
        "  # Apply the UDF to the DataFrame to create a new column with expanded contractions\n",
        "  expanded_df = df.withColumn(\"expanded_review\", expand_contractions_udf(\"review\"))"
      ],
      "metadata": {
        "id": "k4-9n1ILO_YA"
      },
      "execution_count": 19,
      "outputs": []
    },
    {
      "cell_type": "markdown",
      "source": [
        "Defining DocumentAssembler and Spark NLP components\n",
        "\n",
        "The DocumentAssembler is the initial step in a Spark NLP pipeline. It converts raw text into a structured Annotation format that subsequent Spark NLP annotators can utilize for processing."
      ],
      "metadata": {
        "id": "Ng2X3BH7L_Gr"
      }
    },
    {
      "cell_type": "code",
      "source": [
        "from sparknlp.base import DocumentAssembler\n",
        "from sparknlp.annotator import Tokenizer, Normalizer, LemmatizerModel, StopWordsCleaner\n",
        "\n",
        "document_assembler = DocumentAssembler() \\\n",
        "    .setInputCol(\"expanded_review\") \\\n",
        "    .setOutputCol(\"document\")"
      ],
      "metadata": {
        "id": "xeNjrdmjLzDm"
      },
      "execution_count": 20,
      "outputs": []
    },
    {
      "cell_type": "markdown",
      "source": [
        "1. Tokenization"
      ],
      "metadata": {
        "id": "ASy-qlIWyfeM"
      }
    },
    {
      "cell_type": "code",
      "source": [
        "tokenizer = Tokenizer() \\\n",
        "    .setInputCols([\"document\"]) \\\n",
        "    .setOutputCol(\"token\")"
      ],
      "metadata": {
        "id": "j1KTfat5MLHe"
      },
      "execution_count": 21,
      "outputs": []
    },
    {
      "cell_type": "markdown",
      "source": [
        "2. Text Cleaning"
      ],
      "metadata": {
        "id": "cfFm5Gm3zPLM"
      }
    },
    {
      "cell_type": "code",
      "source": [
        "normalizer = Normalizer() \\\n",
        "    .setInputCols([\"token\"]) \\\n",
        "    .setOutputCol(\"normalized\") \\\n",
        "    .setLowercase(True) \\\n",
        "    .setCleanupPatterns([\"[^A-Za-z'\\\\s]\"])  # remove punctuations and numbers"
      ],
      "metadata": {
        "id": "gJjSrwUCMPLE"
      },
      "execution_count": 22,
      "outputs": []
    },
    {
      "cell_type": "markdown",
      "source": [
        "3. Stopword Removal"
      ],
      "metadata": {
        "id": "3skTysCEz_RV"
      }
    },
    {
      "cell_type": "code",
      "source": [
        "stop_words_cleaner = StopWordsCleaner() \\\n",
        "    .setInputCols([\"normalized\"]) \\\n",
        "    .setOutputCol(\"cleanTokens\")"
      ],
      "metadata": {
        "id": "bjNBhlUVMS8t"
      },
      "execution_count": 23,
      "outputs": []
    },
    {
      "cell_type": "markdown",
      "source": [
        "4. Stemming/Lemmatization.\n",
        "\n",
        "Stemming and lemmatization are both text normalization techniques that reduce words to their base or root form. Applying both can at times be redundant. For this application we decide to use Lemmatization.\n"
      ],
      "metadata": {
        "id": "A8p8I4tF0Ib1"
      }
    },
    {
      "cell_type": "code",
      "source": [
        "# Use the pretrained LemmatizerModel from Spark NLP\n",
        "lemmatizer = LemmatizerModel.pretrained() \\\n",
        "    .setInputCols([\"cleanTokens\"]) \\\n",
        "    .setOutputCol(\"lemmatized\")"
      ],
      "metadata": {
        "id": "KnrQsjcEMdPY",
        "colab": {
          "base_uri": "https://localhost:8080/"
        },
        "outputId": "128fbe31-0fb9-4110-87dd-e72408726f7f"
      },
      "execution_count": 24,
      "outputs": [
        {
          "output_type": "stream",
          "name": "stdout",
          "text": [
            "lemma_antbnc download started this may take some time.\n",
            "Approximate size to download 907.6 KB\n",
            "[OK!]\n"
          ]
        }
      ]
    },
    {
      "cell_type": "code",
      "source": [
        "if pre_process:\n",
        "  # Define the Spark NLP pipeline\n",
        "  from pyspark.ml import Pipeline\n",
        "\n",
        "  pipeline = Pipeline(stages=[\n",
        "      document_assembler,\n",
        "      tokenizer,\n",
        "      normalizer,\n",
        "      stop_words_cleaner,\n",
        "      lemmatizer\n",
        "  ])\n",
        "\n",
        "  processed = pipeline.fit(expanded_df).transform(expanded_df).cache()"
      ],
      "metadata": {
        "id": "Z31hZhtxEOO8"
      },
      "execution_count": 25,
      "outputs": []
    },
    {
      "cell_type": "code",
      "source": [
        "# Show the processed data\n",
        "processed.show()"
      ],
      "metadata": {
        "colab": {
          "base_uri": "https://localhost:8080/"
        },
        "id": "t7IiBlvAwu5T",
        "outputId": "f11f8458-74c3-4aa5-f8dc-8e705d0d9f0c"
      },
      "execution_count": 26,
      "outputs": [
        {
          "output_type": "stream",
          "name": "stdout",
          "text": [
            "+-----+--------------------+--------------------+--------------------+--------------------+--------------------+--------------------+--------------------+\n",
            "|score|              review|     expanded_review|            document|               token|          normalized|         cleanTokens|          lemmatized|\n",
            "+-----+--------------------+--------------------+--------------------+--------------------+--------------------+--------------------+--------------------+\n",
            "|  5.0|Grand Theft Auto ...|Grand Theft Auto ...|[{document, 0, 40...|[{token, 0, 4, Gr...|[{token, 0, 4, gr...|[{token, 0, 4, gr...|[{token, 0, 4, gr...|\n",
            "|  4.0|I surprised my so...|I surprised my so...|[{document, 0, 10...|[{token, 0, 0, I,...|[{token, 0, 0, i,...|[{token, 2, 10, s...|[{token, 2, 10, s...|\n",
            "|  5.0|Great value. Buy ...|Great value. Buy ...|[{document, 0, 19...|[{token, 0, 4, Gr...|[{token, 0, 4, gr...|[{token, 0, 4, gr...|[{token, 0, 4, gr...|\n",
            "|  5.0|Of the 8 or so Wi...|Of the 8 or so Wi...|[{document, 0, 51...|[{token, 0, 1, Of...|[{token, 0, 1, of...|[{token, 15, 17, ...|[{token, 15, 17, ...|\n",
            "|  5.0|Cheaper than Game...|Cheaper than Game...|[{document, 0, 23...|[{token, 0, 6, Ch...|[{token, 0, 6, ch...|[{token, 0, 6, ch...|[{token, 0, 6, ch...|\n",
            "|  5.0|I bought this to ...|I bought this to ...|[{document, 0, 10...|[{token, 0, 0, I,...|[{token, 0, 0, i,...|[{token, 2, 7, bo...|[{token, 2, 7, bu...|\n",
            "|  5.0|I really loved th...|I really loved th...|[{document, 0, 23...|[{token, 0, 0, I,...|[{token, 0, 0, i,...|[{token, 2, 7, re...|[{token, 2, 7, re...|\n",
            "|  1.0|Only die hard Yu-...|Only die hard Yu-...|[{document, 0, 18...|[{token, 0, 3, On...|[{token, 0, 3, on...|[{token, 5, 7, di...|[{token, 5, 7, di...|\n",
            "|  5.0|Ordered for cousi...|Ordered for cousi...|[{document, 0, 26...|[{token, 0, 6, Or...|[{token, 0, 6, or...|[{token, 0, 6, or...|[{token, 0, 6, or...|\n",
            "|  5.0|Amazing official ...|Amazing official ...|[{document, 0, 25...|[{token, 0, 6, Am...|[{token, 0, 6, am...|[{token, 0, 6, am...|[{token, 0, 6, am...|\n",
            "|  2.0|My boys didn't en...|My boys did not e...|[{document, 0, 20...|[{token, 0, 1, My...|[{token, 0, 1, my...|[{token, 3, 6, bo...|[{token, 3, 6, bo...|\n",
            "|  5.0|Works great! Have...|Works great! Have...|[{document, 0, 74...|[{token, 0, 4, Wo...|[{token, 0, 4, wo...|[{token, 0, 4, wo...|[{token, 0, 4, wo...|\n",
            "|  5.0|        son loves it|        son loves it|[{document, 0, 11...|[{token, 0, 2, so...|[{token, 0, 2, so...|[{token, 0, 2, so...|[{token, 0, 2, so...|\n",
            "|  3.0|Electronic Arts h...|Electronic Arts h...|[{document, 0, 20...|[{token, 0, 9, El...|[{token, 0, 9, el...|[{token, 0, 9, el...|[{token, 0, 9, el...|\n",
            "|  4.0|I've never done a...|I have never done...|[{document, 0, 29...|[{token, 0, 0, I,...|[{token, 0, 0, i,...|[{token, 7, 11, n...|[{token, 7, 11, n...|\n",
            "|  4.0|This is as amazin...|This is as amazin...|[{document, 0, 36...|[{token, 0, 3, Th...|[{token, 0, 3, th...|[{token, 11, 17, ...|[{token, 11, 17, ...|\n",
            "|  5.0|Amazing visuals, ...|Amazing visuals, ...|[{document, 0, 40...|[{token, 0, 6, Am...|[{token, 0, 6, am...|[{token, 0, 6, am...|[{token, 0, 6, am...|\n",
            "|  5.0|This train game i...|This train game i...|[{document, 0, 45...|[{token, 0, 3, Th...|[{token, 0, 3, th...|[{token, 5, 9, tr...|[{token, 5, 9, tr...|\n",
            "|  5.0|                Good|                Good|[{document, 0, 3,...|[{token, 0, 3, Go...|[{token, 0, 3, go...|[{token, 0, 3, go...|[{token, 0, 3, go...|\n",
            "|  4.0|i like drill serg...|i like drill serg...|[{document, 0, 11...|[{token, 0, 0, i,...|[{token, 0, 0, i,...|[{token, 2, 5, li...|[{token, 2, 5, li...|\n",
            "+-----+--------------------+--------------------+--------------------+--------------------+--------------------+--------------------+--------------------+\n",
            "only showing top 20 rows\n",
            "\n"
          ]
        }
      ]
    },
    {
      "cell_type": "code",
      "source": [
        "# Get the first row of the DataFrame\n",
        "first_row = processed.first()\n",
        "\n",
        "# Print first row with its content\n",
        "print(\"Score:\", first_row['score'])\n",
        "print(\"Review:\", first_row['review'])\n",
        "print(\"Document:\", [doc.result for doc in first_row['document']])\n",
        "print(\"Token:\", [tok.result for tok in first_row['token']])\n",
        "print(\"Normalized:\", [norm.result for norm in first_row['normalized']])\n",
        "print(\"Clean Tokens:\", [clean.result for clean in first_row['cleanTokens']])\n",
        "print(\"Lemmatized:\", [lemma.result for lemma in first_row['lemmatized']])\n"
      ],
      "metadata": {
        "id": "1PW-gHXqJ0t5",
        "colab": {
          "base_uri": "https://localhost:8080/"
        },
        "outputId": "f24c08ad-1af0-40fb-e5bc-5440e7c3a971"
      },
      "execution_count": 27,
      "outputs": [
        {
          "output_type": "stream",
          "name": "stdout",
          "text": [
            "Score: 5.0\n",
            "Review: Grand Theft Auto III is quite possibly the best game ever created.  With a fully-diverse world complete with po-po, various gangs and affiliations; each with their own specific type of car that they drive, angry pedestrians, mobs, thiefs, innocent people, various cars ranging from nice sports cars to crappy Volkswagen esque vehicles, to mack trucks, to pick up trucks, delivery vans, buses, tanks, taxis, speed and police boats...whatever... you name it.\n",
            "You can virtually go anywhere in the humongous city and either complete missions or wreak havoc on pedestrians.  Both objectives are equally fun.  You can get a kick out of standing a top a roof or parking garage and sniping the innocent pedestrians below, killing and fighting various gang members and watching their buddies come help them out, start a fight with a random pedestrian who says something you don't particularly like when you walk by, defy the cops etc. etc.  Steal a taxi and earn money dropping off different people at different locations.  Steal a Police car and run down other criminals who choose to disobey the law, steal an ambulance and pick up hurt people and take them to the hospital.  You can even do fire truck missions.\n",
            "They even have a nice little trick stunt bonus systems which awards money for the crazy stuff you do with your car.  And don't forget you can steal any car you want.  So that means you can stand on the highway, stop a car, pull the driver out the car and drive away without any problems.  Or if you see a nice car in the parking lot you can just hop in and take it.  Some cars have alarms on them and it goes off when you try to steal it.  Ride by the police with the alarm going and they will effectively chase you.  You can pick up hookers off the street to serve you up for a price of course and when they are done you can get your money back by putting them six feet under.  Not to mention side missions like rampage, where you kill as many as possible.  They have one where you control toy cars that explode when you press a button.  There is just so much to do!\n",
            "It is especially fun to see how many stars you can get.  You can get up to six total stars.  And as your stars increase, the amount of police presence and awareness increases. Get three stars and the police presence is heavy complete with a helicopter tracking your every move.  Of course you can rid yourself of the helicopter by sending a couple rockets its way from your rocket launcher but that only increases your stars. Get more than three stars and the FBI comes after you.  Get a full six stars and the army brings out the tank looking for you.  If you have a hot car you can take it to the shop and have them install a new engine and get a new paint job and the cops won't recognize you!\n",
            "The regular missions for each `cell' of the criminal organization have logical and necessary tasks for you to complete for them.  Doing so effectively and efficiently will earn you money to buy weapons.  The choice of weapons is good ranging from uzis, 9mm, shotguns, and sniper rifles to grenades, rocket launchers, machine guns and explosives.  You can wire a car with a bomb and dismiss of someone you don't like.  Crush Cars to destroy evidence, break people out of jail, perform hits, heck you can even do a drive-by with an uzi!  It is especially tight when you turn to Game FM on the radio station, steal a Yardie Lobo ( which comes complete with a fully active hydraulic system ) gangsta lean through your enemy gangs hood and do a drive-by on the gang members!  This kind of experience is just so fun.  And when you kill local gang members each time you roll through their streets they will try to steal your car, beat you up, or shoot you.\n",
            "Top this off with nine different radio stations that cater to all tastes, excellent replay value, cars that would handle like real cars, easy playability and controls, excellent graphics for this type of game, great voice acting and you have got one of the greatest games ever.  I can't express my approval of this game.  The easiest five star rating ever.\n",
            "Document: [\"Grand Theft Auto III is quite possibly the best game ever created.  With a fully-diverse world complete with po-po, various gangs and affiliations; each with their own specific type of car that they drive, angry pedestrians, mobs, thiefs, innocent people, various cars ranging from nice sports cars to crappy Volkswagen esque vehicles, to mack trucks, to pick up trucks, delivery vans, buses, tanks, taxis, speed and police boats...whatever... you name it.\\nYou can virtually go anywhere in the humongous city and either complete missions or wreak havoc on pedestrians.  Both objectives are equally fun.  You can get a kick out of standing a top a roof or parking garage and sniping the innocent pedestrians below, killing and fighting various gang members and watching their buddies come help them out, start a fight with a random pedestrian who says something you do not particularly like when you walk by, defy the cops etc. etc.  Steal a taxi and earn money dropping off different people at different locations.  Steal a Police car and run down other criminals who choose to disobey the law, steal an ambulance and pick up hurt people and take them to the hospital.  You can even do fire truck missions.\\nThey even have a nice little trick stunt bonus systems which awards money for the crazy stuff you do with your car.  And do not forget you can steal any car you want.  So that means you can stand on the highway, stop a car, pull the driver out the car and drive away without any problems.  Or if you see a nice car in the parking lot you can just hop in and take it.  Some cars have alarms on them and it goes off when you try to steal it.  Ride by the police with the alarm going and they will effectively chase you.  You can pick up hookers off the street to serve you up for a price of course and when they are done you can get your money back by putting them six feet under.  Not to mention side missions like rampage, where you kill as many as possible.  They have one where you control toy cars that explode when you press a button.  There is just so much to do!\\nIt is especially fun to see how many stars you can get.  You can get up to six total stars.  And as your stars increase, the amount of police presence and awareness increases. Get three stars and the police presence is heavy complete with a helicopter tracking your every move.  Of course you can rid yourself of the helicopter by sending a couple rockets its way from your rocket launcher but that only increases your stars. Get more than three stars and the FBI comes after you.  Get a full six stars and the army brings out the tank looking for you.  If you have a hot car you can take it to the shop and have them install a new engine and get a new paint job and the cops will not recognize you!\\nThe regular missions for each `cell' of the criminal organization have logical and necessary tasks for you to complete for them.  Doing so effectively and efficiently will earn you money to buy weapons.  The choice of weapons is good ranging from uzis, 9mm, shotguns, and sniper rifles to grenades, rocket launchers, machine guns and explosives.  You can wire a car with a bomb and dismiss of someone you do not like.  Crush Cars to destroy evidence, break people out of jail, perform hits, heck you can even do a drive-by with an uzi!  It is especially tight when you turn to Game FM on the radio station, steal a Yardie Lobo ( which comes complete with a fully active hydraulic system ) gangsta lean through your enemy gangs hood and do a drive-by on the gang members!  This kind of experience is just so fun.  And when you kill local gang members each time you roll through their streets they will try to steal your car, beat you up, or shoot you.\\nTop this off with nine different radio stations that cater to all tastes, excellent replay value, cars that would handle like real cars, easy playability and controls, excellent graphics for this type of game, great voice acting and you have got one of the greatest games ever.  I cannot express my approval of this game.  The easiest five star rating ever.\"]\n",
            "Token: ['Grand', 'Theft', 'Auto', 'III', 'is', 'quite', 'possibly', 'the', 'best', 'game', 'ever', 'created', '.', 'With', 'a', 'fully-diverse', 'world', 'complete', 'with', 'po-po', ',', 'various', 'gangs', 'and', 'affiliations', ';', 'each', 'with', 'their', 'own', 'specific', 'type', 'of', 'car', 'that', 'they', 'drive', ',', 'angry', 'pedestrians', ',', 'mobs', ',', 'thiefs', ',', 'innocent', 'people', ',', 'various', 'cars', 'ranging', 'from', 'nice', 'sports', 'cars', 'to', 'crappy', 'Volkswagen', 'esque', 'vehicles', ',', 'to', 'mack', 'trucks', ',', 'to', 'pick', 'up', 'trucks', ',', 'delivery', 'vans', ',', 'buses', ',', 'tanks', ',', 'taxis', ',', 'speed', 'and', 'police', 'boats...whatever', '...', 'you', 'name', 'it', '.', 'You', 'can', 'virtually', 'go', 'anywhere', 'in', 'the', 'humongous', 'city', 'and', 'either', 'complete', 'missions', 'or', 'wreak', 'havoc', 'on', 'pedestrians', '.', 'Both', 'objectives', 'are', 'equally', 'fun', '.', 'You', 'can', 'get', 'a', 'kick', 'out', 'of', 'standing', 'a', 'top', 'a', 'roof', 'or', 'parking', 'garage', 'and', 'sniping', 'the', 'innocent', 'pedestrians', 'below', ',', 'killing', 'and', 'fighting', 'various', 'gang', 'members', 'and', 'watching', 'their', 'buddies', 'come', 'help', 'them', 'out', ',', 'start', 'a', 'fight', 'with', 'a', 'random', 'pedestrian', 'who', 'says', 'something', 'you', 'do', 'not', 'particularly', 'like', 'when', 'you', 'walk', 'by', ',', 'defy', 'the', 'cops', 'etc', '.', 'etc', '.', 'Steal', 'a', 'taxi', 'and', 'earn', 'money', 'dropping', 'off', 'different', 'people', 'at', 'different', 'locations', '.', 'Steal', 'a', 'Police', 'car', 'and', 'run', 'down', 'other', 'criminals', 'who', 'choose', 'to', 'disobey', 'the', 'law', ',', 'steal', 'an', 'ambulance', 'and', 'pick', 'up', 'hurt', 'people', 'and', 'take', 'them', 'to', 'the', 'hospital', '.', 'You', 'can', 'even', 'do', 'fire', 'truck', 'missions', '.', 'They', 'even', 'have', 'a', 'nice', 'little', 'trick', 'stunt', 'bonus', 'systems', 'which', 'awards', 'money', 'for', 'the', 'crazy', 'stuff', 'you', 'do', 'with', 'your', 'car', '.', 'And', 'do', 'not', 'forget', 'you', 'can', 'steal', 'any', 'car', 'you', 'want', '.', 'So', 'that', 'means', 'you', 'can', 'stand', 'on', 'the', 'highway', ',', 'stop', 'a', 'car', ',', 'pull', 'the', 'driver', 'out', 'the', 'car', 'and', 'drive', 'away', 'without', 'any', 'problems', '.', 'Or', 'if', 'you', 'see', 'a', 'nice', 'car', 'in', 'the', 'parking', 'lot', 'you', 'can', 'just', 'hop', 'in', 'and', 'take', 'it', '.', 'Some', 'cars', 'have', 'alarms', 'on', 'them', 'and', 'it', 'goes', 'off', 'when', 'you', 'try', 'to', 'steal', 'it', '.', 'Ride', 'by', 'the', 'police', 'with', 'the', 'alarm', 'going', 'and', 'they', 'will', 'effectively', 'chase', 'you', '.', 'You', 'can', 'pick', 'up', 'hookers', 'off', 'the', 'street', 'to', 'serve', 'you', 'up', 'for', 'a', 'price', 'of', 'course', 'and', 'when', 'they', 'are', 'done', 'you', 'can', 'get', 'your', 'money', 'back', 'by', 'putting', 'them', 'six', 'feet', 'under', '.', 'Not', 'to', 'mention', 'side', 'missions', 'like', 'rampage', ',', 'where', 'you', 'kill', 'as', 'many', 'as', 'possible', '.', 'They', 'have', 'one', 'where', 'you', 'control', 'toy', 'cars', 'that', 'explode', 'when', 'you', 'press', 'a', 'button', '.', 'There', 'is', 'just', 'so', 'much', 'to', 'do', '!', 'It', 'is', 'especially', 'fun', 'to', 'see', 'how', 'many', 'stars', 'you', 'can', 'get', '.', 'You', 'can', 'get', 'up', 'to', 'six', 'total', 'stars', '.', 'And', 'as', 'your', 'stars', 'increase', ',', 'the', 'amount', 'of', 'police', 'presence', 'and', 'awareness', 'increases', '.', 'Get', 'three', 'stars', 'and', 'the', 'police', 'presence', 'is', 'heavy', 'complete', 'with', 'a', 'helicopter', 'tracking', 'your', 'every', 'move', '.', 'Of', 'course', 'you', 'can', 'rid', 'yourself', 'of', 'the', 'helicopter', 'by', 'sending', 'a', 'couple', 'rockets', 'its', 'way', 'from', 'your', 'rocket', 'launcher', 'but', 'that', 'only', 'increases', 'your', 'stars', '.', 'Get', 'more', 'than', 'three', 'stars', 'and', 'the', 'FBI', 'comes', 'after', 'you', '.', 'Get', 'a', 'full', 'six', 'stars', 'and', 'the', 'army', 'brings', 'out', 'the', 'tank', 'looking', 'for', 'you', '.', 'If', 'you', 'have', 'a', 'hot', 'car', 'you', 'can', 'take', 'it', 'to', 'the', 'shop', 'and', 'have', 'them', 'install', 'a', 'new', 'engine', 'and', 'get', 'a', 'new', 'paint', 'job', 'and', 'the', 'cops', 'will', 'not', 'recognize', 'you', '!', 'The', 'regular', 'missions', 'for', 'each', '`cell', \"'\", 'of', 'the', 'criminal', 'organization', 'have', 'logical', 'and', 'necessary', 'tasks', 'for', 'you', 'to', 'complete', 'for', 'them', '.', 'Doing', 'so', 'effectively', 'and', 'efficiently', 'will', 'earn', 'you', 'money', 'to', 'buy', 'weapons', '.', 'The', 'choice', 'of', 'weapons', 'is', 'good', 'ranging', 'from', 'uzis', ',', '9mm', ',', 'shotguns', ',', 'and', 'sniper', 'rifles', 'to', 'grenades', ',', 'rocket', 'launchers', ',', 'machine', 'guns', 'and', 'explosives', '.', 'You', 'can', 'wire', 'a', 'car', 'with', 'a', 'bomb', 'and', 'dismiss', 'of', 'someone', 'you', 'do', 'not', 'like', '.', 'Crush', 'Cars', 'to', 'destroy', 'evidence', ',', 'break', 'people', 'out', 'of', 'jail', ',', 'perform', 'hits', ',', 'heck', 'you', 'can', 'even', 'do', 'a', 'drive-by', 'with', 'an', 'uzi', '!', 'It', 'is', 'especially', 'tight', 'when', 'you', 'turn', 'to', 'Game', 'FM', 'on', 'the', 'radio', 'station', ',', 'steal', 'a', 'Yardie', 'Lobo', '(', 'which', 'comes', 'complete', 'with', 'a', 'fully', 'active', 'hydraulic', 'system', ')', 'gangsta', 'lean', 'through', 'your', 'enemy', 'gangs', 'hood', 'and', 'do', 'a', 'drive-by', 'on', 'the', 'gang', 'members', '!', 'This', 'kind', 'of', 'experience', 'is', 'just', 'so', 'fun', '.', 'And', 'when', 'you', 'kill', 'local', 'gang', 'members', 'each', 'time', 'you', 'roll', 'through', 'their', 'streets', 'they', 'will', 'try', 'to', 'steal', 'your', 'car', ',', 'beat', 'you', 'up', ',', 'or', 'shoot', 'you', '.', 'Top', 'this', 'off', 'with', 'nine', 'different', 'radio', 'stations', 'that', 'cater', 'to', 'all', 'tastes', ',', 'excellent', 'replay', 'value', ',', 'cars', 'that', 'would', 'handle', 'like', 'real', 'cars', ',', 'easy', 'playability', 'and', 'controls', ',', 'excellent', 'graphics', 'for', 'this', 'type', 'of', 'game', ',', 'great', 'voice', 'acting', 'and', 'you', 'have', 'got', 'one', 'of', 'the', 'greatest', 'games', 'ever', '.', 'I', 'cannot', 'express', 'my', 'approval', 'of', 'this', 'game', '.', 'The', 'easiest', 'five', 'star', 'rating', 'ever', '.']\n",
            "Normalized: ['grand', 'theft', 'auto', 'iii', 'is', 'quite', 'possibly', 'the', 'best', 'game', 'ever', 'created', 'with', 'a', 'fullydiverse', 'world', 'complete', 'with', 'popo', 'various', 'gangs', 'and', 'affiliations', 'each', 'with', 'their', 'own', 'specific', 'type', 'of', 'car', 'that', 'they', 'drive', 'angry', 'pedestrians', 'mobs', 'thiefs', 'innocent', 'people', 'various', 'cars', 'ranging', 'from', 'nice', 'sports', 'cars', 'to', 'crappy', 'volkswagen', 'esque', 'vehicles', 'to', 'mack', 'trucks', 'to', 'pick', 'up', 'trucks', 'delivery', 'vans', 'buses', 'tanks', 'taxis', 'speed', 'and', 'police', 'boatswhatever', 'you', 'name', 'it', 'you', 'can', 'virtually', 'go', 'anywhere', 'in', 'the', 'humongous', 'city', 'and', 'either', 'complete', 'missions', 'or', 'wreak', 'havoc', 'on', 'pedestrians', 'both', 'objectives', 'are', 'equally', 'fun', 'you', 'can', 'get', 'a', 'kick', 'out', 'of', 'standing', 'a', 'top', 'a', 'roof', 'or', 'parking', 'garage', 'and', 'sniping', 'the', 'innocent', 'pedestrians', 'below', 'killing', 'and', 'fighting', 'various', 'gang', 'members', 'and', 'watching', 'their', 'buddies', 'come', 'help', 'them', 'out', 'start', 'a', 'fight', 'with', 'a', 'random', 'pedestrian', 'who', 'says', 'something', 'you', 'do', 'not', 'particularly', 'like', 'when', 'you', 'walk', 'by', 'defy', 'the', 'cops', 'etc', 'etc', 'steal', 'a', 'taxi', 'and', 'earn', 'money', 'dropping', 'off', 'different', 'people', 'at', 'different', 'locations', 'steal', 'a', 'police', 'car', 'and', 'run', 'down', 'other', 'criminals', 'who', 'choose', 'to', 'disobey', 'the', 'law', 'steal', 'an', 'ambulance', 'and', 'pick', 'up', 'hurt', 'people', 'and', 'take', 'them', 'to', 'the', 'hospital', 'you', 'can', 'even', 'do', 'fire', 'truck', 'missions', 'they', 'even', 'have', 'a', 'nice', 'little', 'trick', 'stunt', 'bonus', 'systems', 'which', 'awards', 'money', 'for', 'the', 'crazy', 'stuff', 'you', 'do', 'with', 'your', 'car', 'and', 'do', 'not', 'forget', 'you', 'can', 'steal', 'any', 'car', 'you', 'want', 'so', 'that', 'means', 'you', 'can', 'stand', 'on', 'the', 'highway', 'stop', 'a', 'car', 'pull', 'the', 'driver', 'out', 'the', 'car', 'and', 'drive', 'away', 'without', 'any', 'problems', 'or', 'if', 'you', 'see', 'a', 'nice', 'car', 'in', 'the', 'parking', 'lot', 'you', 'can', 'just', 'hop', 'in', 'and', 'take', 'it', 'some', 'cars', 'have', 'alarms', 'on', 'them', 'and', 'it', 'goes', 'off', 'when', 'you', 'try', 'to', 'steal', 'it', 'ride', 'by', 'the', 'police', 'with', 'the', 'alarm', 'going', 'and', 'they', 'will', 'effectively', 'chase', 'you', 'you', 'can', 'pick', 'up', 'hookers', 'off', 'the', 'street', 'to', 'serve', 'you', 'up', 'for', 'a', 'price', 'of', 'course', 'and', 'when', 'they', 'are', 'done', 'you', 'can', 'get', 'your', 'money', 'back', 'by', 'putting', 'them', 'six', 'feet', 'under', 'not', 'to', 'mention', 'side', 'missions', 'like', 'rampage', 'where', 'you', 'kill', 'as', 'many', 'as', 'possible', 'they', 'have', 'one', 'where', 'you', 'control', 'toy', 'cars', 'that', 'explode', 'when', 'you', 'press', 'a', 'button', 'there', 'is', 'just', 'so', 'much', 'to', 'do', 'it', 'is', 'especially', 'fun', 'to', 'see', 'how', 'many', 'stars', 'you', 'can', 'get', 'you', 'can', 'get', 'up', 'to', 'six', 'total', 'stars', 'and', 'as', 'your', 'stars', 'increase', 'the', 'amount', 'of', 'police', 'presence', 'and', 'awareness', 'increases', 'get', 'three', 'stars', 'and', 'the', 'police', 'presence', 'is', 'heavy', 'complete', 'with', 'a', 'helicopter', 'tracking', 'your', 'every', 'move', 'of', 'course', 'you', 'can', 'rid', 'yourself', 'of', 'the', 'helicopter', 'by', 'sending', 'a', 'couple', 'rockets', 'its', 'way', 'from', 'your', 'rocket', 'launcher', 'but', 'that', 'only', 'increases', 'your', 'stars', 'get', 'more', 'than', 'three', 'stars', 'and', 'the', 'fbi', 'comes', 'after', 'you', 'get', 'a', 'full', 'six', 'stars', 'and', 'the', 'army', 'brings', 'out', 'the', 'tank', 'looking', 'for', 'you', 'if', 'you', 'have', 'a', 'hot', 'car', 'you', 'can', 'take', 'it', 'to', 'the', 'shop', 'and', 'have', 'them', 'install', 'a', 'new', 'engine', 'and', 'get', 'a', 'new', 'paint', 'job', 'and', 'the', 'cops', 'will', 'not', 'recognize', 'you', 'the', 'regular', 'missions', 'for', 'each', 'cell', \"'\", 'of', 'the', 'criminal', 'organization', 'have', 'logical', 'and', 'necessary', 'tasks', 'for', 'you', 'to', 'complete', 'for', 'them', 'doing', 'so', 'effectively', 'and', 'efficiently', 'will', 'earn', 'you', 'money', 'to', 'buy', 'weapons', 'the', 'choice', 'of', 'weapons', 'is', 'good', 'ranging', 'from', 'uzis', 'mm', 'shotguns', 'and', 'sniper', 'rifles', 'to', 'grenades', 'rocket', 'launchers', 'machine', 'guns', 'and', 'explosives', 'you', 'can', 'wire', 'a', 'car', 'with', 'a', 'bomb', 'and', 'dismiss', 'of', 'someone', 'you', 'do', 'not', 'like', 'crush', 'cars', 'to', 'destroy', 'evidence', 'break', 'people', 'out', 'of', 'jail', 'perform', 'hits', 'heck', 'you', 'can', 'even', 'do', 'a', 'driveby', 'with', 'an', 'uzi', 'it', 'is', 'especially', 'tight', 'when', 'you', 'turn', 'to', 'game', 'fm', 'on', 'the', 'radio', 'station', 'steal', 'a', 'yardie', 'lobo', 'which', 'comes', 'complete', 'with', 'a', 'fully', 'active', 'hydraulic', 'system', 'gangsta', 'lean', 'through', 'your', 'enemy', 'gangs', 'hood', 'and', 'do', 'a', 'driveby', 'on', 'the', 'gang', 'members', 'this', 'kind', 'of', 'experience', 'is', 'just', 'so', 'fun', 'and', 'when', 'you', 'kill', 'local', 'gang', 'members', 'each', 'time', 'you', 'roll', 'through', 'their', 'streets', 'they', 'will', 'try', 'to', 'steal', 'your', 'car', 'beat', 'you', 'up', 'or', 'shoot', 'you', 'top', 'this', 'off', 'with', 'nine', 'different', 'radio', 'stations', 'that', 'cater', 'to', 'all', 'tastes', 'excellent', 'replay', 'value', 'cars', 'that', 'would', 'handle', 'like', 'real', 'cars', 'easy', 'playability', 'and', 'controls', 'excellent', 'graphics', 'for', 'this', 'type', 'of', 'game', 'great', 'voice', 'acting', 'and', 'you', 'have', 'got', 'one', 'of', 'the', 'greatest', 'games', 'ever', 'i', 'cannot', 'express', 'my', 'approval', 'of', 'this', 'game', 'the', 'easiest', 'five', 'star', 'rating', 'ever']\n",
            "Clean Tokens: ['grand', 'theft', 'auto', 'iii', 'quite', 'possibly', 'best', 'game', 'ever', 'created', 'fullydiverse', 'world', 'complete', 'popo', 'various', 'gangs', 'affiliations', 'specific', 'type', 'car', 'drive', 'angry', 'pedestrians', 'mobs', 'thiefs', 'innocent', 'people', 'various', 'cars', 'ranging', 'nice', 'sports', 'cars', 'crappy', 'volkswagen', 'esque', 'vehicles', 'mack', 'trucks', 'pick', 'trucks', 'delivery', 'vans', 'buses', 'tanks', 'taxis', 'speed', 'police', 'boatswhatever', 'name', 'virtually', 'go', 'anywhere', 'humongous', 'city', 'either', 'complete', 'missions', 'wreak', 'havoc', 'pedestrians', 'objectives', 'equally', 'fun', 'get', 'kick', 'standing', 'top', 'roof', 'parking', 'garage', 'sniping', 'innocent', 'pedestrians', 'killing', 'fighting', 'various', 'gang', 'members', 'watching', 'buddies', 'come', 'help', 'start', 'fight', 'random', 'pedestrian', 'says', 'something', 'particularly', 'like', 'walk', 'defy', 'cops', 'etc', 'etc', 'steal', 'taxi', 'earn', 'money', 'dropping', 'different', 'people', 'different', 'locations', 'steal', 'police', 'car', 'run', 'criminals', 'choose', 'disobey', 'law', 'steal', 'ambulance', 'pick', 'hurt', 'people', 'take', 'hospital', 'even', 'fire', 'truck', 'missions', 'even', 'nice', 'little', 'trick', 'stunt', 'bonus', 'systems', 'awards', 'money', 'crazy', 'stuff', 'car', 'forget', 'steal', 'car', 'want', 'means', 'stand', 'highway', 'stop', 'car', 'pull', 'driver', 'car', 'drive', 'away', 'without', 'problems', 'see', 'nice', 'car', 'parking', 'lot', 'hop', 'take', 'cars', 'alarms', 'goes', 'try', 'steal', 'ride', 'police', 'alarm', 'going', 'effectively', 'chase', 'pick', 'hookers', 'street', 'serve', 'price', 'course', 'done', 'get', 'money', 'back', 'putting', 'six', 'feet', 'mention', 'side', 'missions', 'like', 'rampage', 'kill', 'many', 'possible', 'one', 'control', 'toy', 'cars', 'explode', 'press', 'button', 'much', 'especially', 'fun', 'see', 'many', 'stars', 'get', 'get', 'six', 'total', 'stars', 'stars', 'increase', 'amount', 'police', 'presence', 'awareness', 'increases', 'get', 'three', 'stars', 'police', 'presence', 'heavy', 'complete', 'helicopter', 'tracking', 'every', 'move', 'course', 'rid', 'helicopter', 'sending', 'couple', 'rockets', 'way', 'rocket', 'launcher', 'increases', 'stars', 'get', 'three', 'stars', 'fbi', 'comes', 'get', 'full', 'six', 'stars', 'army', 'brings', 'tank', 'looking', 'hot', 'car', 'take', 'shop', 'install', 'new', 'engine', 'get', 'new', 'paint', 'job', 'cops', 'recognize', 'regular', 'missions', 'cell', \"'\", 'criminal', 'organization', 'logical', 'necessary', 'tasks', 'complete', 'effectively', 'efficiently', 'earn', 'money', 'buy', 'weapons', 'choice', 'weapons', 'good', 'ranging', 'uzis', 'mm', 'shotguns', 'sniper', 'rifles', 'grenades', 'rocket', 'launchers', 'machine', 'guns', 'explosives', 'wire', 'car', 'bomb', 'dismiss', 'someone', 'like', 'crush', 'cars', 'destroy', 'evidence', 'break', 'people', 'jail', 'perform', 'hits', 'heck', 'even', 'driveby', 'uzi', 'especially', 'tight', 'turn', 'game', 'fm', 'radio', 'station', 'steal', 'yardie', 'lobo', 'comes', 'complete', 'fully', 'active', 'hydraulic', 'system', 'gangsta', 'lean', 'enemy', 'gangs', 'hood', 'driveby', 'gang', 'members', 'kind', 'experience', 'fun', 'kill', 'local', 'gang', 'members', 'time', 'roll', 'streets', 'try', 'steal', 'car', 'beat', 'shoot', 'top', 'nine', 'different', 'radio', 'stations', 'cater', 'tastes', 'excellent', 'replay', 'value', 'cars', 'handle', 'like', 'real', 'cars', 'easy', 'playability', 'controls', 'excellent', 'graphics', 'type', 'game', 'great', 'voice', 'acting', 'got', 'one', 'greatest', 'games', 'ever', 'express', 'approval', 'game', 'easiest', 'five', 'star', 'rating', 'ever']\n",
            "Lemmatized: ['grand', 'theft', 'auto', 'iii', 'quite', 'possibly', 'good', 'game', 'ever', 'create', 'fullydiverse', 'world', 'complete', 'popo', 'various', 'gang', 'affiliation', 'specific', 'type', 'car', 'drive', 'angry', 'pedestrian', 'mob', 'thiefs', 'innocent', 'people', 'various', 'car', 'range', 'nice', 'sport', 'car', 'crappy', 'volkswagen', 'esque', 'vehicle', 'mack', 'truck', 'pick', 'truck', 'delivery', 'van', 'buse', 'tank', 'taxi', 'speed', 'police', 'boatswhatever', 'name', 'virtually', 'go', 'anywhere', 'humongous', 'city', 'either', 'complete', 'mission', 'wreak', 'havoc', 'pedestrian', 'objective', 'equally', 'fun', 'get', 'kick', 'stand', 'top', 'roof', 'park', 'garage', 'snipe', 'innocent', 'pedestrian', 'kill', 'fight', 'various', 'gang', 'member', 'watch', 'buddy', 'come', 'help', 'start', 'fight', 'random', 'pedestrian', 'say', 'something', 'particularly', 'like', 'walk', 'defy', 'cop', 'etc', 'etc', 'steal', 'taxi', 'earn', 'money', 'drop', 'different', 'people', 'different', 'location', 'steal', 'police', 'car', 'run', 'criminal', 'choose', 'disobey', 'law', 'steal', 'ambulance', 'pick', 'hurt', 'people', 'take', 'hospital', 'even', 'fire', 'truck', 'mission', 'even', 'nice', 'little', 'trick', 'stunt', 'bonus', 'system', 'award', 'money', 'crazy', 'stuff', 'car', 'forget', 'steal', 'car', 'want', 'mean', 'stand', 'highway', 'stop', 'car', 'pull', 'driver', 'car', 'drive', 'away', 'without', 'problem', 'see', 'nice', 'car', 'park', 'lot', 'hop', 'take', 'car', 'alarm', 'go', 'try', 'steal', 'ride', 'police', 'alarm', 'go', 'effectively', 'chase', 'pick', 'hooker', 'street', 'serve', 'price', 'course', 'do', 'get', 'money', 'back', 'put', 'six', 'foot', 'mention', 'side', 'mission', 'like', 'rampage', 'kill', 'many', 'possible', 'one', 'control', 'toy', 'car', 'explode', 'press', 'button', 'much', 'especially', 'fun', 'see', 'many', 'star', 'get', 'get', 'six', 'total', 'star', 'star', 'increase', 'amount', 'police', 'presence', 'awareness', 'increase', 'get', 'three', 'star', 'police', 'presence', 'heavy', 'complete', 'helicopter', 'track', 'every', 'move', 'course', 'rid', 'helicopter', 'send', 'couple', 'rocket', 'way', 'rocket', 'launcher', 'increase', 'star', 'get', 'three', 'star', 'fbi', 'come', 'get', 'full', 'six', 'star', 'army', 'bring', 'tank', 'look', 'hot', 'car', 'take', 'shop', 'install', 'new', 'engine', 'get', 'new', 'paint', 'job', 'cop', 'recognize', 'regular', 'mission', 'cell', \"'\", 'criminal', 'organization', 'logical', 'necessary', 'task', 'complete', 'effectively', 'efficiently', 'earn', 'money', 'buy', 'weapon', 'choice', 'weapon', 'good', 'range', 'uzis', 'mm', 'shotgun', 'sniper', 'rifle', 'grenade', 'rocket', 'launcher', 'machine', 'gun', 'explosive', 'wire', 'car', 'bomb', 'dismiss', 'someone', 'like', 'crush', 'car', 'destroy', 'evidence', 'break', 'people', 'jail', 'perform', 'hit', 'heck', 'even', 'driveby', 'uzi', 'especially', 'tight', 'turn', 'game', 'fm', 'radio', 'station', 'steal', 'yardie', 'lobo', 'come', 'complete', 'fully', 'active', 'hydraulic', 'system', 'gangsta', 'lean', 'enemy', 'gang', 'hood', 'driveby', 'gang', 'member', 'kind', 'experience', 'fun', 'kill', 'local', 'gang', 'member', 'time', 'roll', 'street', 'try', 'steal', 'car', 'beat', 'shoot', 'top', 'nine', 'different', 'radio', 'station', 'cater', 'taste', 'excellent', 'replay', 'value', 'car', 'handle', 'like', 'real', 'car', 'easy', 'playability', 'control', 'excellent', 'graphics', 'type', 'game', 'great', 'voice', 'act', 'get', 'one', 'great', 'game', 'ever', 'express', 'approval', 'game', 'easy', 'five', 'star', 'rate', 'ever']\n"
          ]
        }
      ]
    },
    {
      "cell_type": "markdown",
      "source": [
        "**Feature extraction**"
      ],
      "metadata": {
        "id": "yoZ0k4Olwv79"
      }
    },
    {
      "cell_type": "markdown",
      "source": [
        "Next steps:\n",
        "\n",
        "Feature extraction (Bag of Words, TF-IDF, word embeddings Word2Vec)\n",
        "\n",
        "Vectorization (Count Vectorizer, TfidfVectorizer)\n",
        "\n",
        "Model selection (LogisticRegression, Nayve Bayes, SVM or unsupervised learning)\n",
        "\n",
        "\n",
        "\n",
        "\n",
        "\n",
        "Additional steps (optional to improve accuracy):\n",
        "\n",
        "Speech tagging (before stop word removal)\n",
        "\n",
        "N-grams to use along with TD-IDF"
      ],
      "metadata": {
        "id": "GgxZ4b794R6g"
      }
    }
  ]
}